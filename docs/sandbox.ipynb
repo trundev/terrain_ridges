{
 "cells": [
  {
   "cell_type": "code",
   "execution_count": null,
   "metadata": {},
   "outputs": [],
   "source": [
    "# Tested on python 3.8 with matplotlib, jupyter, etc.\n",
    "import matplotlib.pyplot as plt\n",
    "import time"
   ]
  },
  {
   "cell_type": "code",
   "execution_count": null,
   "metadata": {},
   "outputs": [],
   "source": [
    "fig = plt.figure()\n",
    "ax = fig.add_subplot(111)\n",
    "fig.show()"
   ]
  },
  {
   "cell_type": "code",
   "execution_count": null,
   "metadata": {},
   "outputs": [],
   "source": [
    "ax.clear()\n",
    "ax.set_xlim(left=0, right=10)\n",
    "ax.set_ylim(bottom=-1, top=10)\n",
    "ln, = ax.plot([5])\n",
    "\n",
    "def animate(i):\n",
    "    x, y = ln.get_data()\n",
    "    x = [*x[-10:], x[-1] + 1]\n",
    "    y = [*y[-10:], i % 8]\n",
    "    ln.set_data(x, y)\n",
    "    ax.set_xlim(left=x[0] - 1, right=x[-1] + 1)\n",
    "\n",
    "for i in range(100):\n",
    "    animate(i)\n",
    "    fig.canvas.draw()\n",
    "    time.sleep(.1)\n"
   ]
  },
  {
   "cell_type": "code",
   "execution_count": null,
   "metadata": {},
   "outputs": [],
   "source": [
    "x, y = ln.get_data()\n",
    "ax.text(x[2], max(y) + 1, 'Done')\n",
    "fig.canvas.draw()"
   ]
  }
 ],
 "metadata": {
  "interpreter": {
   "hash": "5b45008d1052bf03c6dd057f2fb96771423420f75e961c696172b56dbb6d516e"
  },
  "kernelspec": {
   "display_name": "Python 3.8.10 64-bit ('venv-jupyter': venv)",
   "name": "python3"
  },
  "language_info": {
   "codemirror_mode": {
    "name": "ipython",
    "version": 3
   },
   "file_extension": ".py",
   "mimetype": "text/x-python",
   "name": "python",
   "nbconvert_exporter": "python",
   "pygments_lexer": "ipython3",
   "version": "3.8.10"
  },
  "metadata": {
   "interpreter": {
    "hash": "5b45008d1052bf03c6dd057f2fb96771423420f75e961c696172b56dbb6d516e"
   }
  },
  "orig_nbformat": 2
 },
 "nbformat": 4,
 "nbformat_minor": 2
}
